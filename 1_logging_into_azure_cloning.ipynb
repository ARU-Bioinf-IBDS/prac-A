{
 "cells": [
  {
   "cell_type": "markdown",
   "metadata": {},
   "source": [
    "# Logging into Azure and Cloning the Library\n",
    "* To start working with Azure Notebooks you will need to sign in by clicking on the `Sign In` link at the top right of this window:\n",
    "\n",
    "<img src=\"./images/SignIn_button.png\"/>\n",
    "\n",
    "* At the `Microsoft Sign in` page enter your Anglia Ruskin Username that should be in the format **abc123@student.anglia.ac.uk**\n",
    "* You will then be redirected to a Anglia Ruskin sign in page, enter your ARU password.\n",
    "* Once you have logged in you need to Clone the library into your space by clicking on the `Clone` button:\n",
    "\n",
    "<img src=\"./images/clone_button.png\"/>\"\n",
    "\n",
    "* In the Clone Library prompt accept the defaults by clicking on the `Clone` button:\n",
    "\n",
    "<img src=\"./images/clone_library_window.png\"/>\"\n",
    "\n",
    "* The `Public library` tick option means that other people can view your work if you share the url of your library.\n",
    "* N.B., you should only clone library once to avoid overwriting your work!\n",
    "* Next look at the notebook [Introducing Juypter_Notebooks](./2_introducing_jupyter_notebook.ipynb). \n"
   ]
  },
  {
   "cell_type": "code",
   "execution_count": null,
   "metadata": {
    "collapsed": true
   },
   "outputs": [],
   "source": []
  }
 ],
 "metadata": {
  "kernelspec": {
   "display_name": "Python 3",
   "language": "python",
   "name": "python3"
  },
  "language_info": {
   "codemirror_mode": {
    "name": "ipython",
    "version": 3
   },
   "file_extension": ".py",
   "mimetype": "text/x-python",
   "name": "python",
   "nbconvert_exporter": "python",
   "pygments_lexer": "ipython3",
   "version": "3.6.3"
  }
 },
 "nbformat": 4,
 "nbformat_minor": 2
}
