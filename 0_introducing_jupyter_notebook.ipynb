{
 "cells": [
  {
   "cell_type": "markdown",
   "metadata": {
    "collapsed": true
   },
   "source": [
    "# Introducing Jupyter Notebooks\n",
    "\n",
    "This is a *Jupyter notebook* and it consists of:\n",
    "\n",
    "* text cells (like the one you are reading now)\n",
    "* and code cells (like the next cell) that contain Python code.\n",
    "\n",
    "To run a code cell either click on the Run cell button in the menu above: <img src=\"./images/run_button.png\"/>\n",
    "or you can use the `Ctrl` + `Enter` keyboard short cut.\n",
    "\n",
    "The code in the next cell counts the number of G bases in a short DNA sequence. \n",
    "\n",
    "**Instruction:** Run the cell below by clicking on the cell to select it and hitting the run button."
   ]
  },
  {
   "cell_type": "code",
   "execution_count": null,
   "metadata": {
    "collapsed": true
   },
   "outputs": [],
   "source": [
    "# [] run this cell!\n",
    "dna_sequence = 'GATCGATAG'\n",
    "number_g = dna_sequence.count('G')\n",
    "print('The DNA sequence', dna_sequence, 'contains', number_g, 'G bases')"
   ]
  },
  {
   "cell_type": "markdown",
   "metadata": {},
   "source": [
    "When you run the above cell you will see the result :\n",
    "```\n",
    "The DNA sequence GATCGATAG contains 3 G bases\n",
    "```\n",
    "printed after the code cell.\n",
    "\n",
    "The brilliant thing about *Jupyter notebook* is that it is interactive and you can alter the code and rerun really easily.\n",
    "\n",
    "**Instruction:** click on the code cell above and change the dna_sequence to `'AAAA'`, then rerun the cell. Do you get the result you expect?"
   ]
  },
  {
   "cell_type": "code",
   "execution_count": null,
   "metadata": {
    "collapsed": true
   },
   "outputs": [],
   "source": [
    "# [] What was the result of changing dna_sequence to 'AAAA'?\n",
    "\n",
    "# replace this comment your answer "
   ]
  },
  {
   "cell_type": "markdown",
   "metadata": {
    "collapsed": true
   },
   "source": [
    "Try writing some python code in the next code cell.\n",
    "\n",
    "**Instruction:** Add python code to print out your name in the next code cell and run it using the `Ctrl` + `Enter` keyboard short cut. "
   ]
  },
  {
   "cell_type": "code",
   "execution_count": null,
   "metadata": {
    "collapsed": true
   },
   "outputs": [],
   "source": [
    "# [] Python code to print out your name:"
   ]
  }
 ],
 "metadata": {
  "kernelspec": {
   "display_name": "Python 3",
   "language": "python",
   "name": "python3"
  },
  "language_info": {
   "codemirror_mode": {
    "name": "ipython",
    "version": 3
   },
   "file_extension": ".py",
   "mimetype": "text/x-python",
   "name": "python",
   "nbconvert_exporter": "python",
   "pygments_lexer": "ipython3",
   "version": "3.6.3"
  }
 },
 "nbformat": 4,
 "nbformat_minor": 2
}
