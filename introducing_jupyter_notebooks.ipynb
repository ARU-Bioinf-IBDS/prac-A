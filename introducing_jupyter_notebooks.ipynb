{
 "cells": [
  {
   "cell_type": "markdown",
   "metadata": {},
   "source": [
    "# Introducing Jupyter Notebooks\n",
    "Jupyter Notebook is an \"open-source web application that allows you to create and share documents that contain live code, equations, visualizations and narrative text\" (http://jupyter.org/). Juypter notebooks are really useful for scientists because they make \"data analysis easier to record, understand and reproduce\" as explained in this [Nature Article: *Interactive notebooks: Sharing the code*](http://doi.org/10.1038/515151a). Note that the article discusses Juypter Notebooks using their original name \"IPython Notebooks\". I use Jupyter Notebook in my research, for instance including \n",
    "[a notebook](https://doi.org/10.1107/S2059798318002541/ba5278sup3.html) as part of a [Research Paper](https://doi.org/10.1107/S2059798318002541). \n",
    "\n",
    "This document is itself a *Jupyter notebook* and it consists of:\n",
    "\n",
    "* text cells (like the one you are reading now)\n",
    "* and code cells (like the next cell) that contain Python code.\n",
    "\n",
    "You should be working with this document in a web browser (like Chrome, Internet Explorer, Safari), using \n",
    "either the \n",
    "[Azure Notebooks](https://notebooks.azure.com) \n",
    "service or a local \n",
    "[Jupyter Notebook](http://jupyter.org/) \n",
    "installation, so that you can edit the contents and run the Python code."
   ]
  },
  {
   "cell_type": "markdown",
   "metadata": {
    "collapsed": true
   },
   "source": [
    "## Running Python code cells\n",
    "\n",
    "To run a code cell either click on the Run cell button in the menu above: \n",
    "\n",
    "<img src=\"./images/run_button.png\"/>\n",
    "\n",
    "or you can use the `Ctrl` + `Enter` keyboard short cut. \n",
    "\n",
    "The code in the next cell counts the number of G bases in a short DNA sequence. \n",
    "\n",
    "**Instruction:** Run the cell below by clicking on the cell to select it and hitting the run button."
   ]
  },
  {
   "cell_type": "code",
   "execution_count": null,
   "metadata": {
    "collapsed": true
   },
   "outputs": [],
   "source": [
    "# Instruction: run this cell!\n",
    "dna_sequence = 'GATCGATAG'\n",
    "number_g = dna_sequence.count('G')\n",
    "print('The DNA sequence', dna_sequence, 'contains', number_g, 'G bases')"
   ]
  },
  {
   "cell_type": "markdown",
   "metadata": {},
   "source": [
    "When you run the above cell you will see the result :\n",
    "```\n",
    "The DNA sequence GATCGATAG contains 3 G bases\n",
    "```\n",
    "printed after the code cell.\n",
    "\n",
    "The brilliant thing about *Jupyter notebook* is that it is interactive and you can alter the code and rerun really easily.\n",
    "\n",
    "**Instruction:** click on the code cell above and change the dna_sequence to `'AAAA'`, then rerun the cell. Do you get the result you expect?"
   ]
  },
  {
   "cell_type": "code",
   "execution_count": null,
   "metadata": {
    "collapsed": true
   },
   "outputs": [],
   "source": [
    "# Instruction: What was the result of changing dna_sequence to 'AAAA'?\n",
    "# replace this comment your answer "
   ]
  },
  {
   "cell_type": "markdown",
   "metadata": {
    "collapsed": true
   },
   "source": [
    "Try writing some python code in the next code cell.\n",
    "\n",
    "**Instruction:** Add python code to print out the name of your favourite species in the next code cell and run it using the `Ctrl` + `Enter` keyboard short cut. "
   ]
  },
  {
   "cell_type": "code",
   "execution_count": null,
   "metadata": {
    "collapsed": true
   },
   "outputs": [],
   "source": [
    "# Instruction: fill in the name of your favourite species:\n",
    "favourite_species = ''\n",
    "# Instruction: print out the favourite_species variable"
   ]
  },
  {
   "cell_type": "markdown",
   "metadata": {},
   "source": [
    "## Saving your work\n",
    "\n",
    "As you work through the work book it is important to regularly save your work. Notice that as you have made changes the jupyter window top line will warn you there are `(unsaved changes)` in small text.\n",
    "\n",
    "**Instruction:** Save the you work in this notebook by either selecting menu item `File` `Save` or by hitting the save button:\n",
    "\n",
    "<img src=\"./images/save_button.png\"/>\n",
    "\n",
    "You should notice the `(unsaved changes)` message disappears from the top of the window."
   ]
  },
  {
   "cell_type": "markdown",
   "metadata": {
    "collapsed": true
   },
   "source": [
    "# Next step\n",
    "\n",
    "You should now know enough about using Jupyter Notebooks to work through the first exercise: [Exercise A: handling sequences in strings](https://github.com/ARU-Bioinformatics/ibdsA-ex-A)."
   ]
  }
 ],
 "metadata": {
  "kernelspec": {
   "display_name": "Python 3",
   "language": "python",
   "name": "python3"
  },
  "language_info": {
   "codemirror_mode": {
    "name": "ipython",
    "version": 3
   },
   "file_extension": ".py",
   "mimetype": "text/x-python",
   "name": "python",
   "nbconvert_exporter": "python",
   "pygments_lexer": "ipython3",
   "version": "3.6.3"
  }
 },
 "nbformat": 4,
 "nbformat_minor": 2
}
