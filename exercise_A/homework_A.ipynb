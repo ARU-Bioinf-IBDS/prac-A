{
 "cells": [
  {
   "cell_type": "markdown",
   "metadata": {},
   "source": [
    "# homework A: handling sequences in Python\n",
    "\n",
    "Make sure you have worked through [workbook A](./workbook_handling_sequences_in_strings.ipynb)\n",
    "\n",
    "## A1 Complementing DNA\n",
    "\n",
    "In the workbook we saw how double stranded DNA has two complementary strands<img src=\"https://upload.wikimedia.org/wikipedia/commons/e/e4/DNA_chemical_structure.svg\" \n",
    "align=\"left\" width=300> \n",
    "```\n",
    "\n",
    "\n",
    "\n",
    "```\n",
    "**Chemical Diagram of DNA**:  Showing two complimentary strands of 4 base pairs.\n",
    "[Image from Wikimedia Commons](https://commons.wikimedia.org/wiki/File:DNA_chemical_structure.svg) by Madeleine Price Ball, Licensed under [Creative Commons](https://en.wikipedia.org/wiki/en:Creative_Commons) [Attribution-Share Alike 3.0 Unported](https://creativecommons.org/licenses/by-sa/3.0/deed.en) license."
   ]
  },
  {
   "cell_type": "markdown",
   "metadata": {
    "collapsed": true
   },
   "source": [
    "The DNA sequence of the left hand strand is: ACTG. The complementary strand is found by replacing A with T, C with G, G with C and T with A:\n",
    "```\n",
    "left hand strand:     ACTG\n",
    "complementary strand: TGAC\n",
    "```\n",
    "Note that the complementary strand is listed from the 3' to the 5' end."
   ]
  },
  {
   "cell_type": "code",
   "execution_count": null,
   "metadata": {},
   "outputs": [],
   "source": [
    "# Instruction: write python code to find the complementary \n",
    "# strand of dna from the dna variable and store it as complement. \n",
    "dna = 'ATGC'\n",
    "complement = '' # replace this line!\n",
    "# add more code here\n",
    "\n",
    "print(complement)\n",
    "# next line checks answer!\n",
    "assert complement == 'TACG', 'error complement not worked out correctly!'"
   ]
  },
  {
   "cell_type": "markdown",
   "metadata": {},
   "source": [
    "Now check you code works by considering the first part of the DNA sequence shown below:\n",
    "<img src=\"../images/Diagram_showing_a_double_helix_of_a_chromosome_CRUK_065_with_ends_marked.svg\" width=200/>\n",
    "```\n",
    "\n",
    "\n",
    "```\n",
    "**The DNA double helix**.  [Wikimedia Commons SVG diagram](https://commons.wikimedia.org/wiki/File:Diagram_showing_a_double_helix_of_a_chromosome_CRUK_065.svg) by Cancer Research UK, Licensed under [Creative Commons](https://en.wikipedia.org/wiki/en:Creative_Commons) [Attribution-Share Alike 4.0 International](https://creativecommons.org/licenses/by-sa/4.0/deed.en) license."
   ]
  },
  {
   "cell_type": "code",
   "execution_count": null,
   "metadata": {},
   "outputs": [],
   "source": [
    "dna = 'AGTCGAC'\n",
    "# Instruction: \n",
    "complement_by_hand = 'work this out by hand'\n",
    "\n",
    "# Instruction: copy your python code for the complement here\n",
    "\n",
    "\n",
    "assert complement == complement_by_hand, 'error complement check fails!'"
   ]
  },
  {
   "cell_type": "markdown",
   "metadata": {},
   "source": [
    "Now lets get fancy and print out the DNA strand and its complement showing it is complementary:\n",
    "\n",
    "For `dna = 'AGTCGAC'` we want a print out\n",
    "```\n",
    "5'-AGTCGAC-3'\n",
    "3'-TCAGCTA-5'\n",
    "```"
   ]
  },
  {
   "cell_type": "code",
   "execution_count": null,
   "metadata": {
    "collapsed": true
   },
   "outputs": [],
   "source": [
    "dna = 'AAACCCGGGTTT'\n",
    "# Instruction: your code for complement\n",
    "\n",
    "# Instruction: your code for the fancy print out"
   ]
  },
  {
   "cell_type": "markdown",
   "metadata": {},
   "source": [
    "Now lets get even fancier and add vertical bars to show the complementarity in the printout\n",
    "```\n",
    "5'-AGTCGAC-3'\n",
    "   |||||||\n",
    "3'-TCAGCTA-5'\n",
    "```"
   ]
  },
  {
   "cell_type": "code",
   "execution_count": null,
   "metadata": {},
   "outputs": [],
   "source": [
    "dna = 'A'*5 + 'G'*5 + 'C'*10 + 'T'*7\n",
    "\n",
    "\n",
    "\n",
    "# Instruction: your code for the even fancier print out"
   ]
  },
  {
   "cell_type": "markdown",
   "metadata": {},
   "source": [
    "Note we have not yet learnt how to reverse a string. In the next exercise we will explore how to work out the reverse complement."
   ]
  },
  {
   "cell_type": "markdown",
   "metadata": {},
   "source": [
    "## A2 Working out the overall charge of a bee venom protein\n",
    "We have been working with nucleotide sequences. Now lets switch to proteins that are the things that do most of the work in biology. Proteins are polymers of amino acids joined by peptide bonds (you will learn alot about this in the course). There are twenty amino acid coded in genomes: "
   ]
  },
  {
   "cell_type": "markdown",
   "metadata": {},
   "source": [
    "<img src=\"https://upload.wikimedia.org/wikipedia/commons/5/51/Molecular_structures_of_the_21_proteinogenic_amino_acids.svg\" width=500/>\n",
    "**Image By Dan Cojocari, used under [Creative Commons License](https://creativecommons.org/licenses/by-sa/3.0), from Wikimedia Commons**"
   ]
  },
  {
   "cell_type": "markdown",
   "metadata": {},
   "source": [
    "So to represent a protein sequence we need 20 letters rather than the 4 needed for DNA sequences. The one letter code for each amino acid is show in the red circle above, for example \"Arginine\" that has a side chain with a positive charge has the one letter code `R`."
   ]
  },
  {
   "cell_type": "markdown",
   "metadata": {},
   "source": []
  },
  {
   "cell_type": "markdown",
   "metadata": {},
   "source": [
    "## apamin\n",
    "Apamin is a bee venom toxin.\n",
    "\n",
    "<img src='https://upload.wikimedia.org/wikipedia/commons/b/b2/Stamps_of_Romania%2C_2010-04.jpg' width=150 align=\"left\"/> \n",
    "```\n",
    "\n",
    "```\n",
    "*. Stamp featuring honey bee, by Post of Romania [Public domain], via Wikimedia Commons*"
   ]
  },
  {
   "cell_type": "markdown",
   "metadata": {},
   "source": [
    "that has the sequence (from https://www.uniprot.org/uniprot/P01500):\n",
    "```\n",
    "CNCKAPETALCARRCQQH\n",
    "```\n",
    "Strickly speaking it is to short to be called a protein and should be called a polypeptide.\n",
    "It is a neurotoxin that works by blocking one of the potassium ion channels."
   ]
  },
  {
   "cell_type": "markdown",
   "metadata": {},
   "source": [
    "## Working out the number of charged residues and the overall charge of a protein\n",
    "\n",
    "The number of charged residues and overall charge of a protein are important properties that can indicate its solubility and give some indication as to where it acts.\n",
    "\n",
    "At neutral pH the positively charged amino acids are:\n",
    "```\n",
    "R Arginine\n",
    "H Histidine\n",
    "K Lysine\n",
    "```\n",
    "the negatively charged amino acids are:\n",
    "```\n",
    "D Aspartic Acid\n",
    "E Glutamic Acids\n",
    "```\n",
    "\n",
    "So to work out the number of charged amino acid:\n",
    "\n",
    "$$\n",
    "N_{charged} = N_R + N_H + N_K + N_D + N_E\n",
    "$$\n",
    "\n",
    "Where `N_R` is the number of arginines (R) in the sequence.\n",
    "\n",
    "The overall charge is: \n",
    "\n",
    "$$\n",
    "Charge_{overall} = (N_R + N_H + N_K) - (N_D + N_E)\n",
    "$$\n",
    "\n",
    "Your task it to work out the number of charged amino acids and the overall charge of apamin. "
   ]
  },
  {
   "cell_type": "code",
   "execution_count": 5,
   "metadata": {},
   "outputs": [
    {
     "name": "stdout",
     "output_type": "stream",
     "text": [
      "n_charged = 6\n"
     ]
    }
   ],
   "source": [
    "sequence = 'RHKDER'\n",
    "\n",
    "# Instruction: your code to work n_charged\n",
    "\n",
    "# Instruction: your code to work total_charge\n",
    "\n",
    "\n",
    "assert n_charged == 6\n",
    "assert total_charge == 2"
   ]
  },
  {
   "cell_type": "markdown",
   "metadata": {},
   "source": [
    "Now apply your code to work out the number of charged residues and total charge of apamin."
   ]
  },
  {
   "cell_type": "code",
   "execution_count": 6,
   "metadata": {
    "collapsed": true
   },
   "outputs": [],
   "source": [
    "sequence = 'CNCKAPETALCARRCQQH'  # apamin\n",
    "# Instruction: your code to work n_charged\n",
    "\n",
    "# Instruction: your code to work total_charge\n",
    "\n",
    "# Instruction: print out the results"
   ]
  },
  {
   "cell_type": "markdown",
   "metadata": {},
   "source": [
    "Question: does is apamin basic (total charge positive) or acidic (total charge negative)?"
   ]
  },
  {
   "cell_type": "code",
   "execution_count": null,
   "metadata": {
    "collapsed": true
   },
   "outputs": [],
   "source": [
    "# Instruction: add your answer in this comment"
   ]
  },
  {
   "cell_type": "markdown",
   "metadata": {},
   "source": [
    "One of the folk remedies for treating bee stings is to rub with vingear (acetic acid). Is this justified?\n",
    "\n",
    "Read https://www.insectstings.co.uk/bee-sting-acid-or-alkali/\n"
   ]
  },
  {
   "cell_type": "markdown",
   "metadata": {},
   "source": [
    "Now work out the percentage charged residues in apamin and print this reporting one decimal place."
   ]
  },
  {
   "cell_type": "code",
   "execution_count": 7,
   "metadata": {
    "collapsed": true
   },
   "outputs": [],
   "source": [
    "# Instruction: print out the percentage charged residues \n",
    "# in apamin and print this reporting one decimal place."
   ]
  }
 ],
 "metadata": {
  "kernelspec": {
   "display_name": "Python 3",
   "language": "python",
   "name": "python3"
  },
  "language_info": {
   "codemirror_mode": {
    "name": "ipython",
    "version": 3
   },
   "file_extension": ".py",
   "mimetype": "text/x-python",
   "name": "python",
   "nbconvert_exporter": "python",
   "pygments_lexer": "ipython3",
   "version": "3.6.3"
  }
 },
 "nbformat": 4,
 "nbformat_minor": 2
}
