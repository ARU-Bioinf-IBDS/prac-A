{
 "cells": [
  {
   "cell_type": "markdown",
   "metadata": {},
   "source": [
    "# Activity A: handling sequences in strings"
   ]
  },
  {
   "cell_type": "markdown",
   "metadata": {
    "collapsed": true
   },
   "source": [
    "This activity builds on the Python you have become familiar with in Chapter 1 Python Basics from the [DataCamp online course *Intro to Python for Data Science*](https://www.datacamp.com/courses/intro-to-python-for-data-science). We will use what you have learnt there to explore how biological sequence data can be handled in Python."
   ]
  },
  {
   "cell_type": "markdown",
   "metadata": {},
   "source": [
    "## DNA sequence\n",
    "DNA is the molecule that lies at the centre of understanding of how genes are passed on to descendents, how proteins are made, and consequently how the working of cells. DNA forms strands that are polymer of nucleotides joined together. Each nucleotide has a phosphate-deoxyribose backbone that links to the adjacent nucleotides and has one of four bases:\n",
    "* Adenine (A),\n",
    "* Cytosine (C)\n",
    "* Guanine (G),\n",
    "* Thymine (T)\n",
    "DNA forms double helices in which two **complementary** DNA strands associate forming hydrogen bonds:\n"
   ]
  },
  {
   "cell_type": "markdown",
   "metadata": {},
   "source": [
    "<img src=\"https://upload.wikimedia.org/wikipedia/commons/e/e4/DNA_chemical_structure.svg\" \n",
    "align=\"left\" width=300> \n",
    "```\n",
    "\n",
    "\n",
    "\n",
    "```\n",
    "**Chemical Diagram of DNA**:  Showing two complimentary strands of 4 base pairs.\n",
    "[Image from Wikimedia Commons](https://commons.wikimedia.org/wiki/File:DNA_chemical_structure.svg) by Madeleine Price Ball, Licensed under [Creative Commons](https://en.wikipedia.org/wiki/en:Creative_Commons) [Attribution-Share Alike 3.0 Unported](https://creativecommons.org/licenses/by-sa/3.0/deed.en) license."
   ]
  },
  {
   "cell_type": "markdown",
   "metadata": {},
   "source": [
    "The two strands then coil around each other to adopt the famous DNA double helix structure:\n",
    "\n",
    "\n",
    "<!---<img src=\"https://upload.wikimedia.org/wikipedia/commons/2/27/Diagram_showing_a_double_helix_of_a_chromosome_CRUK_065.svg\" \n",
    "align=\"left\" width=300>--->\n",
    "\n",
    "<img src=\"./images/Diagram_showing_a_double_helix_of_a_chromosome_CRUK_065_with_ends_marked.svg\"/>\n",
    "```\n",
    "\n",
    "\n",
    "```\n",
    "**The DNA double helix**. Image adapted [Wikimedia Commons SVG diagram](https://commons.wikimedia.org/wiki/File:Diagram_showing_a_double_helix_of_a_chromosome_CRUK_065.svg) by Cancer Research UK, Licensed under [Creative Commons](https://en.wikipedia.org/wiki/en:Creative_Commons) [Attribution-Share Alike 4.0 International](https://creativecommons.org/licenses/by-sa/4.0/deed.en) license."
   ]
  },
  {
   "cell_type": "markdown",
   "metadata": {},
   "source": [
    "## How to handle sequence information in Python?\n",
    "\n",
    "DNA sequence information can be seen to a long word of A, C, G and T letters. For instance the left hand strand of the double helical diagram above has a sequence starting: `AGTCGAC`. Notice that DNA strands have a direction and we list DNA sequences from the 5' end to the 3' end.\n",
    "\n",
    "In the DataCamp course Chapter 1 Python basics you have used Integer, Float, Boolean and String variables.\n",
    "\n",
    "Question which of these variable types is best suited to handle DNA sequence information?\n",
    "**Instruction: In the code cell replace the ? with your answer** \n"
   ]
  },
  {
   "cell_type": "code",
   "execution_count": null,
   "metadata": {},
   "outputs": [],
   "source": [
    "# Instruction: replace ? in the next line with your answer.\n",
    "print('? is the Python variable type best suited to handle DNA sequence information')"
   ]
  },
  {
   "cell_type": "markdown",
   "metadata": {},
   "source": [
    "The left hand strand of the Chemical Diagram of DNA above has a sequence: `ATCG` lets store this in a string and print it the sequence."
   ]
  },
  {
   "cell_type": "code",
   "execution_count": null,
   "metadata": {
    "collapsed": true
   },
   "outputs": [],
   "source": [
    "chemical_diagram_dna = 'ATGC'\n",
    "# Instruction: add line to print chemical_diagram_dna"
   ]
  },
  {
   "cell_type": "code",
   "execution_count": null,
   "metadata": {
    "collapsed": true
   },
   "outputs": [],
   "source": []
  }
 ],
 "metadata": {
  "kernelspec": {
   "display_name": "Python 3",
   "language": "python",
   "name": "python3"
  },
  "language_info": {
   "codemirror_mode": {
    "name": "ipython",
    "version": 3
   },
   "file_extension": ".py",
   "mimetype": "text/x-python",
   "name": "python",
   "nbconvert_exporter": "python",
   "pygments_lexer": "ipython3",
   "version": "3.6.3"
  }
 },
 "nbformat": 4,
 "nbformat_minor": 2
}
