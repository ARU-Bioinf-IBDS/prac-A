{
 "cells": [
  {
   "cell_type": "markdown",
   "metadata": {},
   "source": [
    "# code to print out comment lines with PEP8 72/79 character ruler \n",
    "The [PEP 8 -- Style Guide for Python Code](https://www.python.org/dev/peps/pep-0008/) says that the maximum line length should be 79 characters except for comments/docstrings that should be 72 characters.\n",
    "\n",
    "This is a little bit of code to print out "
   ]
  },
  {
   "cell_type": "code",
   "execution_count": 6,
   "metadata": {},
   "outputs": [
    {
     "name": "stdout",
     "output_type": "stream",
     "text": [
      "# PEP8 says maximum line length 79 characters, 72 for comments         |      |\n",
      "#        1         2         3         4         5         6         7 |      |\n",
      "#2345678901234567890123456789012345678901234567890123456789012345678901|345678|\n"
     ]
    }
   ],
   "source": [
    "top_line = ['#']\n",
    "bottom_line = ['#']\n",
    "for i in range(2, 80):\n",
    "    top_letter = ' '\n",
    "    bottom_letter = str(i%10)\n",
    "    if i == 72 or i == 79:\n",
    "        top_letter = '|'\n",
    "        bottom_letter = '|'\n",
    "    elif i%10 == 0:\n",
    "        top_letter = str(i//10)    \n",
    "    top_line.append(top_letter)\n",
    "    bottom_line.append(bottom_letter)\n",
    "print('# PEP8 says maximum line length 79 characters, '\n",
    "      '72 for comments         |      |')\n",
    "print(''.join(top_line))\n",
    "print(''.join(bottom_line))\n",
    "# PEP8 says maximum line length 79 characters, 72 for comments         |      |\n",
    "#        1         2         3         4         5         6         7 |      |\n",
    "#2345678901234567890123456789012345678901234567890123456789012345678901|345678|"
   ]
  },
  {
   "cell_type": "code",
   "execution_count": null,
   "metadata": {
    "collapsed": true
   },
   "outputs": [],
   "source": []
  }
 ],
 "metadata": {
  "kernelspec": {
   "display_name": "Python 3",
   "language": "python",
   "name": "python3"
  },
  "language_info": {
   "codemirror_mode": {
    "name": "ipython",
    "version": 3
   },
   "file_extension": ".py",
   "mimetype": "text/x-python",
   "name": "python",
   "nbconvert_exporter": "python",
   "pygments_lexer": "ipython3",
   "version": "3.6.3"
  }
 },
 "nbformat": 4,
 "nbformat_minor": 2
}
