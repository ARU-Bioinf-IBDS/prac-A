{
 "cells": [
  {
   "cell_type": "markdown",
   "metadata": {},
   "source": [
    "# Guide for Topic 2: Intro to Python for Bioinformatics\n",
    "\n",
    "* This topic introduces programming in python showing how sequence information can be stored and manipulated in strings.\n",
    "* In this topic, we will be using the \n",
    "  [DataCamp online course *Intro to Python for Data Science*](https://www.datacamp.com/courses/intro-to-python-for-data-science) to get familiar with Python and then using this to dome some simple sequence analysis and manipulation.\n",
    "  * We will just be using Chapters 1, 2 and 3 (you can skip Chapter 4 on NumPy). \n",
    "  * It would be great to work through all three sections before starting the topic activitiesbut there is no problem doing the section needed and then the activity.\n",
    "  * If you already know some Python then you could use the DataCamp course as revision or start on the activities and see how you get on.\n",
    "* We will be using [Microsoft Azure Notebooks](https://notebooks.azure.com) service in this topic.\n",
    "* You will need to start by logging into Azure and cloning this library into you own space so you can make changes."
   ]
  },
  {
   "cell_type": "markdown",
   "metadata": {},
   "source": [
    "## Course Structure\n",
    "\n",
    "The best way to learn programming is by doing it. \n",
    "\n",
    "Work through the activities completing the Notebooks. If you get stuck ask for help (see next section).\n",
    "\n",
    "* [Logging into Azure and Cloning the Library](./1_logging_into_azure_cloning.ipynb)\n",
    "* [Introducing Juypter_Notebooks](./2_introducing_jupyter_notebook.ipynb)\n",
    "* Exercise A: handling sequences in strings:\n",
    "  * [workbook A](./exercise_A/workbook_handling_sequences_in_strings.ipynb)\n",
    "  * [homework A](./exercise_A/homework_A.ipynb)\n",
    "* Activity B: something about lists\n",
    "* Activity C: functions and methods.\n",
    "* Activity D: for loops"
   ]
  },
  {
   "cell_type": "markdown",
   "metadata": {},
   "source": [
    "## Help!\n",
    "\n",
    "It takes a while to get used to programming and things can be really confusing to start with. **Do not panic!**\n",
    "\n",
    "To get help on this topic:\n",
    "\n",
    "* Post to the Canvas discussion board.\n",
    "* Come along to one of the Surgeries (held once a week at ARU on a day you are coming in to attend Core Biology 1.\n",
    "* For a really big problem email the course tutors."
   ]
  },
  {
   "cell_type": "markdown",
   "metadata": {
    "collapsed": true
   },
   "source": [
    "## Author\n",
    "These Notebooks were developed by Oliver S. Smart <oliver.smart@anglia.ac.uk>.\n",
    "\n",
    "## Copyright\n",
    "All material is copyright of Anglia Ruskin University (c) 2018"
   ]
  }
 ],
 "metadata": {
  "kernelspec": {
   "display_name": "Python 3",
   "language": "python",
   "name": "python3"
  },
  "language_info": {
   "codemirror_mode": {
    "name": "ipython",
    "version": 3
   },
   "file_extension": ".py",
   "mimetype": "text/x-python",
   "name": "python",
   "nbconvert_exporter": "python",
   "pygments_lexer": "ipython3",
   "version": "3.6.3"
  }
 },
 "nbformat": 4,
 "nbformat_minor": 2
}
